{
 "cells": [
  {
   "cell_type": "code",
   "execution_count": null,
   "metadata": {},
   "outputs": [],
   "source": []
  },
  {
   "cell_type": "code",
   "execution_count": 97,
   "metadata": {
    "scrolled": true
   },
   "outputs": [
    {
     "name": "stdout",
     "output_type": "stream",
     "text": [
      "What kind of food are you looking for? For top, rated enter R. For trending, enter T: T\n",
      "Please enter either a specific dish you have in mind or whatever ingredients you would like to cook with:\\n(Note- please separate ingredients with commas for best results.)cheese\n",
      "My Baking Addiction\n"
     ]
    },
    {
     "ename": "TypeError",
     "evalue": "'NoneType' object is not iterable",
     "output_type": "error",
     "traceback": [
      "\u001b[1;31m---------------------------------------------------------------------------\u001b[0m",
      "\u001b[1;31mTypeError\u001b[0m                                 Traceback (most recent call last)",
      "\u001b[1;32m<ipython-input-97-995a22ba2eb3>\u001b[0m in \u001b[0;36m<module>\u001b[1;34m\u001b[0m\n\u001b[0;32m     42\u001b[0m     \u001b[1;32mfor\u001b[0m \u001b[0mval\u001b[0m \u001b[1;32min\u001b[0m \u001b[0mdic\u001b[0m\u001b[1;33m.\u001b[0m\u001b[0mvalues\u001b[0m\u001b[1;33m(\u001b[0m\u001b[1;33m)\u001b[0m\u001b[1;33m:\u001b[0m\u001b[1;33m\u001b[0m\u001b[0m\n\u001b[0;32m     43\u001b[0m         \u001b[0mtitle\u001b[0m \u001b[1;33m=\u001b[0m \u001b[0mprint\u001b[0m\u001b[1;33m(\u001b[0m\u001b[0mval\u001b[0m\u001b[1;33m)\u001b[0m\u001b[1;33m\u001b[0m\u001b[0m\n\u001b[1;32m---> 44\u001b[1;33m         \u001b[1;32mfor\u001b[0m \u001b[0mword\u001b[0m \u001b[1;32min\u001b[0m \u001b[0mtitle\u001b[0m\u001b[1;33m:\u001b[0m\u001b[1;33m\u001b[0m\u001b[0m\n\u001b[0m\u001b[0;32m     45\u001b[0m             \u001b[1;32mif\u001b[0m \u001b[0mword\u001b[0m \u001b[1;32min\u001b[0m \u001b[0mBold_Red\u001b[0m\u001b[1;33m:\u001b[0m\u001b[1;33m\u001b[0m\u001b[0m\n\u001b[0;32m     46\u001b[0m                 \u001b[0mprint\u001b[0m\u001b[1;33m(\u001b[0m\u001b[1;34m\"These are your recommended wines: \"\u001b[0m\u001b[1;33m,\u001b[0m\u001b[0mBold_Red_list\u001b[0m\u001b[1;33m)\u001b[0m\u001b[1;33m\u001b[0m\u001b[0m\n",
      "\u001b[1;31mTypeError\u001b[0m: 'NoneType' object is not iterable"
     ]
    }
   ],
   "source": [
    "\n",
    "import pandas as pd\n",
    "import warnings\n",
    "import requests\n",
    "\n",
    "#structuring the url\n",
    "api_key = \"435a2bc882b5137c8919ca9ec579d27c\"\n",
    "pref = str(input('What kind of food are you looking for? For top, rated enter R. For trending, enter T: '))\n",
    "page = '1'\n",
    "query = str(input('Please enter either a specific dish you have in mind or whatever ingredients you would like to cook with:\\\\n(Note- please separate ingredients with commas for best results.)'))\n",
    "url = 'http://food2fork.com/api/search?key=%s&q=%s&sort=%s&page=%s' % (api_key, query, pref.capitalize(), page)\n",
    "\n",
    "#turning the api data into json data\n",
    "response = requests.get(url)\n",
    "results = response.json()\n",
    "results_df = pd.DataFrame(results['recipes'])\n",
    "\n",
    "#lists of foods that pair well with each type of wine\n",
    "Bold_Red = ['Beef', 'Lamb', 'Venison', 'Grilled', 'Barbeque', 'Roasted', 'Cheddar', 'Pecorino', 'Manchego', 'Asiago', 'Parmesan', 'Black Pepper']\n",
    "Medium_Red = ['Tenderloin', 'Pork Chop', 'Smoked', 'Bleu', 'Onion', 'Garlic', 'Tomato', 'Eggplant', 'Bell Pepper', 'Ancho', 'Chipotle', 'Chilli', 'Ginger']\n",
    "Light_Red = ['Salami', 'Bacon', 'Chicken', 'Duck', 'Turkey', 'Sauteed', 'Fried', 'Mascarpone']  \n",
    "Rose = ['Carrot', 'Turnup', 'Pumpkin', 'Butternut'] \n",
    "Rich_White = ['Chicken', 'Duck', 'Turkey', 'Prawn', 'Crab', 'Shellfish', 'Lobster']\n",
    "Light_White = ['Tuna', 'Cod', 'Trout', 'Bass', 'Poached', 'Steamed', 'Green Beans', 'Kale', 'Lettuce', 'Beans', 'Peas', 'Thyme', 'Oregano', 'Basil']\n",
    "Sparkling  = ['Oyster', 'Mussel', 'Clam'] \n",
    "Sweet_White = ['Salami', 'Bacon', 'Peanut', 'Almond', 'Pecan', 'Sesame', 'Hot Sauce', 'Habanero', 'Ginger', 'Brown Rice', 'Whole Grain', 'Sweet Potato', 'Yucca', 'Strawberry', 'Orange', 'Apple', 'Peach', 'Fruit']\n",
    "Dessert = ['Bleu', 'Cinnamon', 'Clove', 'Mace', 'Chocolate', 'Coffee', 'Vanilla', 'Caramel'] \n",
    "\n",
    "#list of varietals that go under each category of wine\n",
    "Bold_Red_list = ['Malbec', 'Syrah', 'Pinotage', 'Meritage', 'Bordeaux Blend', 'Cabernet Sauvignon', 'Petite Sirah', 'Touriga Nacional']\n",
    "Medium_Red_list = ['Merlot', 'Sangiovese', 'Zinfandel', 'Cabernet Franc', 'Tempranillo', 'Nebbiolo', 'Barbera']\n",
    "Light_Red_list = ['Pinot Noir', 'Grenache', 'Gamay', 'St. Laurent', 'Carignan', 'Counoise']\n",
    "Rose_list = ['Provencal Rose', 'White Zinfandel', 'Loire Valley Rose', 'Pinot Noir Rose', 'Syrah Rose', 'Garnacha Rosado', 'Bandol Rose', 'Tempranillo Rose']\n",
    "Rich_White_list = ['Chardonnay', 'Viognier', 'Marsanne', 'Roussanne'] \n",
    "Light_White_list = ['Sauvignon Blanc', 'Pinot Blanc', 'Vermentino', 'Melon de Bourgogne', 'Garganega', 'Trebbiano', 'Pinot Grigio']\n",
    "Sparkling_list = ['Champagne', 'Prosecco', 'Cava', 'Metodo Classico'] \n",
    "Sweet_White_list = ['Moscato' 'Riesling', 'Chenin Blanc', 'Late Harvest White', 'Alsacian Pinot Gris', 'Gewurztraminer']\n",
    "Dessert_list = ['Port', 'Sherry', 'Madeira', 'Vin Santo', 'Muscat', 'Pedro Ximenez'] \n",
    "\n",
    "#iterating of lists of dictionaries returned from food 2 fork API and returning list of recommended wines\n",
    "for dic in results['recipes']:\n",
    "    for val in dic.values():\n",
    "        title = print(val)\n",
    "        for word in title:\n",
    "            if word in Bold_Red:\n",
    "                print(\"These are your recommended wines: \",Bold_Red_list)\n",
    "            elif word in Medium_Red:\n",
    "                print(\"These are your recommended wines: \",Medium_Red_list)\n",
    "            elif word in Light_Red:\n",
    "                print(\"These are your recommended wines: \",Light_Red_list)\n",
    "            elif word in Rose_list:\n",
    "                print(\"These are your recommended wines: \",Rose_list)\n",
    "            elif word in Rich_White:\n",
    "                print(\"These are your recommended wines: \",Rich_White_list)\n",
    "            elif word in Light_White:\n",
    "                print(\"These are your recommended wines: \",Light_White_list)\n",
    "            elif word in Sparkling:\n",
    "                print(\"These are your recommended wines: \",Sparkling_list)\n",
    "            elif word in Sweet_White:\n",
    "                print(\"These are your recommended wines: \",Sweet_White_list)\n",
    "            elif word in Dessert:\n",
    "                print(\"These are your recommended wines: \",Dessert_list)\n",
    "            "
   ]
  },
  {
   "cell_type": "code",
   "execution_count": null,
   "metadata": {},
   "outputs": [],
   "source": []
  },
  {
   "cell_type": "code",
   "execution_count": null,
   "metadata": {},
   "outputs": [],
   "source": [
    "\n",
    "                   "
   ]
  },
  {
   "cell_type": "code",
   "execution_count": null,
   "metadata": {},
   "outputs": [],
   "source": []
  }
 ],
 "metadata": {
  "kernelspec": {
   "display_name": "Python 3",
   "language": "python",
   "name": "python3"
  },
  "language_info": {
   "codemirror_mode": {
    "name": "ipython",
    "version": 3
   },
   "file_extension": ".py",
   "mimetype": "text/x-python",
   "name": "python",
   "nbconvert_exporter": "python",
   "pygments_lexer": "ipython3",
   "version": "3.6.6"
  }
 },
 "nbformat": 4,
 "nbformat_minor": 2
}
